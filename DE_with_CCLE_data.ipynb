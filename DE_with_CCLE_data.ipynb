{
 "cells": [
  {
   "cell_type": "code",
   "execution_count": null,
   "metadata": {},
   "outputs": [],
   "source": []
  },
  {
   "cell_type": "markdown",
   "metadata": {},
   "source": [
    "# Bioconductor and Differential Expression\n",
    "Lecture on 2/6/2019"
   ]
  },
  {
   "cell_type": "markdown",
   "metadata": {},
   "source": [
    "## 1.\tInstall bioconductor on your computer\n",
    "\n",
    "During class, some students cannot get bioconductor to install. Here are a few things you can try:\n",
    "1. Troubleshooting tips from bioconductor http://bioconductor.org/install/\n",
    "2. Download the source of the package from bioconductor and then use \"install.package\" in R\n",
    "3. If all else fails, try to see if you could roll back a version of R.  I use R 3.4.1 on my laptop running mac 10.12.6\n",
    "4. If you are a fan of Docker, try the bioconductor Docker image. https://hub.docker.com/u/bioconductor/\n",
    "5. I will present yet another cloud based option in class on Wed."
   ]
  },
  {
   "cell_type": "code",
   "execution_count": 1,
   "metadata": {},
   "outputs": [
    {
     "name": "stdout",
     "output_type": "stream",
     "text": [
      "\n",
      "The downloaded binary packages are in\n",
      "\t/var/folders/5_/7_rrsk692x1500ybt0vlky980000gr/T//RtmpE5MOuV/downloaded_packages\n"
     ]
    },
    {
     "name": "stderr",
     "output_type": "stream",
     "text": [
      "Bioconductor version 3.7 (BiocInstaller 1.30.0), ?biocLite for help\n",
      "A newer version of Bioconductor is available for this version of R,\n",
      "  ?BiocUpgrade for help\n",
      "BioC_mirror: https://bioconductor.org\n",
      "Using Bioconductor 3.7 (BiocInstaller 1.30.0), R 3.5.2 (2018-12-20).\n",
      "Installing package(s) ‘Biobase’, ‘IRanges’, ‘AnnotationDbi’\n",
      "also installing the dependencies ‘bit’, ‘bit64’, ‘blob’, ‘pkgconfig’, ‘BH’, ‘plogr’, ‘BiocGenerics’, ‘S4Vectors’, ‘DBI’, ‘RSQLite’\n",
      "\n"
     ]
    },
    {
     "name": "stdout",
     "output_type": "stream",
     "text": [
      "\n",
      "The downloaded binary packages are in\n",
      "\t/var/folders/5_/7_rrsk692x1500ybt0vlky980000gr/T//RtmpE5MOuV/downloaded_packages\n"
     ]
    },
    {
     "name": "stderr",
     "output_type": "stream",
     "text": [
      "Old packages: 'class', 'codetools', 'mgcv', 'repr'\n"
     ]
    }
   ],
   "source": [
    "source(\"https://bioconductor.org/biocLite.R\")\n",
    "biocLite()"
   ]
  },
  {
   "cell_type": "markdown",
   "metadata": {},
   "source": [
    "## 2.\tDownload the CCLE data from GEO\n",
    "\n",
    "Go to GEO’s web site at http://www.ncbi.nlm.nih.gov/geo/.\n",
    "1.\tSearch for CCLE.\n",
    "2.\tClick on the first link (GSE36133)\n",
    "3.\thttp://www.ncbi.nlm.nih.gov/geo/query/acc.cgi?acc=GSE36133"
   ]
  },
  {
   "cell_type": "code",
   "execution_count": 2,
   "metadata": {},
   "outputs": [
    {
     "name": "stderr",
     "output_type": "stream",
     "text": [
      "BioC_mirror: https://bioconductor.org\n",
      "Using Bioconductor 3.7 (BiocInstaller 1.30.0), R 3.5.2 (2018-12-20).\n",
      "Installing package(s) ‘GEOquery’\n",
      "also installing the dependencies ‘utf8’, ‘fansi’, ‘pillar’, ‘bindr’, ‘tibble’, ‘hms’, ‘bindrcpp’, ‘tidyselect’, ‘purrr’, ‘stringi’, ‘readr’, ‘xml2’, ‘dplyr’, ‘tidyr’, ‘limma’\n",
      "\n"
     ]
    },
    {
     "name": "stdout",
     "output_type": "stream",
     "text": [
      "\n",
      "The downloaded binary packages are in\n",
      "\t/var/folders/5_/7_rrsk692x1500ybt0vlky980000gr/T//RtmpE5MOuV/downloaded_packages\n"
     ]
    },
    {
     "name": "stderr",
     "output_type": "stream",
     "text": [
      "Old packages: 'class', 'codetools', 'mgcv', 'repr'\n",
      "Loading required package: Biobase\n",
      "Loading required package: BiocGenerics\n",
      "Loading required package: parallel\n",
      "\n",
      "Attaching package: ‘BiocGenerics’\n",
      "\n",
      "The following objects are masked from ‘package:parallel’:\n",
      "\n",
      "    clusterApply, clusterApplyLB, clusterCall, clusterEvalQ,\n",
      "    clusterExport, clusterMap, parApply, parCapply, parLapply,\n",
      "    parLapplyLB, parRapply, parSapply, parSapplyLB\n",
      "\n",
      "The following objects are masked from ‘package:stats’:\n",
      "\n",
      "    IQR, mad, sd, var, xtabs\n",
      "\n",
      "The following objects are masked from ‘package:base’:\n",
      "\n",
      "    anyDuplicated, append, as.data.frame, basename, cbind, colMeans,\n",
      "    colnames, colSums, dirname, do.call, duplicated, eval, evalq,\n",
      "    Filter, Find, get, grep, grepl, intersect, is.unsorted, lapply,\n",
      "    lengths, Map, mapply, match, mget, order, paste, pmax, pmax.int,\n",
      "    pmin, pmin.int, Position, rank, rbind, Reduce, rowMeans, rownames,\n",
      "    rowSums, sapply, setdiff, sort, table, tapply, union, unique,\n",
      "    unsplit, which, which.max, which.min\n",
      "\n",
      "Welcome to Bioconductor\n",
      "\n",
      "    Vignettes contain introductory material; view with\n",
      "    'browseVignettes()'. To cite Bioconductor, see\n",
      "    'citation(\"Biobase\")', and for packages 'citation(\"pkgname\")'.\n",
      "\n",
      "Setting options('download.file.method.GEOquery'='auto')\n",
      "Setting options('GEOquery.inmemory.gpl'=FALSE)\n"
     ]
    }
   ],
   "source": [
    "biocLite(\"GEOquery\")\n",
    "library(GEOquery)"
   ]
  },
  {
   "cell_type": "code",
   "execution_count": 3,
   "metadata": {},
   "outputs": [
    {
     "name": "stderr",
     "output_type": "stream",
     "text": [
      "Found 1 file(s)\n",
      "GSE36133_series_matrix.txt.gz\n",
      "Parsed with column specification:\n",
      "cols(\n",
      "  .default = col_double(),\n",
      "  ID_REF = col_character()\n",
      ")\n",
      "See spec(...) for full column specifications.\n",
      "File stored at: \n",
      "/var/folders/5_/7_rrsk692x1500ybt0vlky980000gr/T//RtmpE5MOuV/GPL15308.soft\n"
     ]
    }
   ],
   "source": [
    "# this is going to take a few minutes.  \n",
    "# This command assumes that you can install the package GEOquery.\n",
    "# if this package doesn't work for you, you can load my image in your workspace.\n",
    "geoD<- getGEO('GSE36133')"
   ]
  },
  {
   "cell_type": "code",
   "execution_count": 4,
   "metadata": {},
   "outputs": [
    {
     "data": {
      "text/html": [
       "<ol class=list-inline>\n",
       "\t<li>18926</li>\n",
       "\t<li>917</li>\n",
       "</ol>\n"
      ],
      "text/latex": [
       "\\begin{enumerate*}\n",
       "\\item 18926\n",
       "\\item 917\n",
       "\\end{enumerate*}\n"
      ],
      "text/markdown": [
       "1. 18926\n",
       "2. 917\n",
       "\n",
       "\n"
      ],
      "text/plain": [
       "[1] 18926   917"
      ]
     },
     "metadata": {},
     "output_type": "display_data"
    }
   ],
   "source": [
    "# get the expression data from geoD\n",
    "mat <- exprs (geoD[[1]])\n",
    "dim (mat)"
   ]
  },
  {
   "cell_type": "code",
   "execution_count": 5,
   "metadata": {},
   "outputs": [
    {
     "data": {
      "text/html": [
       "<table>\n",
       "<thead><tr><th></th><th scope=col>GSM886835</th><th scope=col>GSM886836</th><th scope=col>GSM886837</th><th scope=col>GSM886838</th><th scope=col>GSM886839</th></tr></thead>\n",
       "<tbody>\n",
       "\t<tr><th scope=row>100009676_at</th><td>6.1161 </td><td>6.2052 </td><td>6.1249 </td><td>6.6154 </td><td> 5.4236</td></tr>\n",
       "\t<tr><th scope=row>10000_at</th><td>8.1556 </td><td>6.6152 </td><td>4.5676 </td><td>4.3519 </td><td> 6.6723</td></tr>\n",
       "\t<tr><th scope=row>10001_at</th><td>9.7864 </td><td>9.9699 </td><td>8.8720 </td><td>9.1376 </td><td>10.0290</td></tr>\n",
       "\t<tr><th scope=row>10002_at</th><td>3.7977 </td><td>4.0304 </td><td>3.8455 </td><td>3.7085 </td><td> 3.6431</td></tr>\n",
       "\t<tr><th scope=row>10003_at</th><td>3.5458 </td><td>3.8504 </td><td>4.0458 </td><td>3.9508 </td><td> 4.1589</td></tr>\n",
       "\t<tr><th scope=row>100048912_at</th><td>4.0034 </td><td>3.7959 </td><td>4.1465 </td><td>3.9271 </td><td> 3.9157</td></tr>\n",
       "</tbody>\n",
       "</table>\n"
      ],
      "text/latex": [
       "\\begin{tabular}{r|lllll}\n",
       "  & GSM886835 & GSM886836 & GSM886837 & GSM886838 & GSM886839\\\\\n",
       "\\hline\n",
       "\t100009676\\_at & 6.1161  & 6.2052  & 6.1249  & 6.6154  &  5.4236\\\\\n",
       "\t10000\\_at & 8.1556  & 6.6152  & 4.5676  & 4.3519  &  6.6723\\\\\n",
       "\t10001\\_at & 9.7864  & 9.9699  & 8.8720  & 9.1376  & 10.0290\\\\\n",
       "\t10002\\_at & 3.7977  & 4.0304  & 3.8455  & 3.7085  &  3.6431\\\\\n",
       "\t10003\\_at & 3.5458  & 3.8504  & 4.0458  & 3.9508  &  4.1589\\\\\n",
       "\t100048912\\_at & 4.0034  & 3.7959  & 4.1465  & 3.9271  &  3.9157\\\\\n",
       "\\end{tabular}\n"
      ],
      "text/markdown": [
       "\n",
       "| <!--/--> | GSM886835 | GSM886836 | GSM886837 | GSM886838 | GSM886839 |\n",
       "|---|---|---|---|---|---|\n",
       "| 100009676_at | 6.1161  | 6.2052  | 6.1249  | 6.6154  |  5.4236 |\n",
       "| 10000_at | 8.1556  | 6.6152  | 4.5676  | 4.3519  |  6.6723 |\n",
       "| 10001_at | 9.7864  | 9.9699  | 8.8720  | 9.1376  | 10.0290 |\n",
       "| 10002_at | 3.7977  | 4.0304  | 3.8455  | 3.7085  |  3.6431 |\n",
       "| 10003_at | 3.5458  | 3.8504  | 4.0458  | 3.9508  |  4.1589 |\n",
       "| 100048912_at | 4.0034  | 3.7959  | 4.1465  | 3.9271  |  3.9157 |\n",
       "\n"
      ],
      "text/plain": [
       "             GSM886835 GSM886836 GSM886837 GSM886838 GSM886839\n",
       "100009676_at 6.1161    6.2052    6.1249    6.6154     5.4236  \n",
       "10000_at     8.1556    6.6152    4.5676    4.3519     6.6723  \n",
       "10001_at     9.7864    9.9699    8.8720    9.1376    10.0290  \n",
       "10002_at     3.7977    4.0304    3.8455    3.7085     3.6431  \n",
       "10003_at     3.5458    3.8504    4.0458    3.9508     4.1589  \n",
       "100048912_at 4.0034    3.7959    4.1465    3.9271     3.9157  "
      ]
     },
     "metadata": {},
     "output_type": "display_data"
    }
   ],
   "source": [
    "mat[1:6, 1:5]"
   ]
  },
  {
   "cell_type": "code",
   "execution_count": 6,
   "metadata": {},
   "outputs": [
    {
     "data": {
      "text/html": [
       "<ol class=list-inline>\n",
       "\t<li>917</li>\n",
       "\t<li>42</li>\n",
       "</ol>\n"
      ],
      "text/latex": [
       "\\begin{enumerate*}\n",
       "\\item 917\n",
       "\\item 42\n",
       "\\end{enumerate*}\n"
      ],
      "text/markdown": [
       "1. 917\n",
       "2. 42\n",
       "\n",
       "\n"
      ],
      "text/plain": [
       "[1] 917  42"
      ]
     },
     "metadata": {},
     "output_type": "display_data"
    }
   ],
   "source": [
    "#get phenotype matrix from geoD\n",
    "p.mat <- pData (geoD[[1]])\n",
    "dim (p.mat)"
   ]
  },
  {
   "cell_type": "code",
   "execution_count": 7,
   "metadata": {},
   "outputs": [
    {
     "data": {
      "text/html": [
       "<table>\n",
       "<thead><tr><th></th><th scope=col>title</th><th scope=col>geo_accession</th><th scope=col>characteristics_ch1</th></tr></thead>\n",
       "<tbody>\n",
       "\t<tr><th scope=row>GSM886835</th><td>1321N1                              </td><td>GSM886835                           </td><td>primary site: central_nervous_system</td></tr>\n",
       "\t<tr><th scope=row>GSM886836</th><td>143B                                </td><td>GSM886836                           </td><td>primary site: bone                  </td></tr>\n",
       "\t<tr><th scope=row>GSM886837</th><td>22Rv1                               </td><td>GSM886837                           </td><td>primary site: prostate              </td></tr>\n",
       "\t<tr><th scope=row>GSM886838</th><td>23132/87                            </td><td>GSM886838                           </td><td>primary site: stomach               </td></tr>\n",
       "\t<tr><th scope=row>GSM886839</th><td>42-MG-BA                            </td><td>GSM886839                           </td><td>primary site: central_nervous_system</td></tr>\n",
       "\t<tr><th scope=row>GSM886840</th><td>5637                                </td><td>GSM886840                           </td><td>primary site: urinary_tract         </td></tr>\n",
       "</tbody>\n",
       "</table>\n"
      ],
      "text/latex": [
       "\\begin{tabular}{r|lll}\n",
       "  & title & geo\\_accession & characteristics\\_ch1\\\\\n",
       "\\hline\n",
       "\tGSM886835 & 1321N1                                   & GSM886835                                & primary site: central\\_nervous\\_system\\\\\n",
       "\tGSM886836 & 143B                                 & GSM886836                            & primary site: bone                  \\\\\n",
       "\tGSM886837 & 22Rv1                                & GSM886837                            & primary site: prostate              \\\\\n",
       "\tGSM886838 & 23132/87                             & GSM886838                            & primary site: stomach               \\\\\n",
       "\tGSM886839 & 42-MG-BA                                 & GSM886839                                & primary site: central\\_nervous\\_system\\\\\n",
       "\tGSM886840 & 5637                                   & GSM886840                              & primary site: urinary\\_tract         \\\\\n",
       "\\end{tabular}\n"
      ],
      "text/markdown": [
       "\n",
       "| <!--/--> | title | geo_accession | characteristics_ch1 |\n",
       "|---|---|---|---|\n",
       "| GSM886835 | 1321N1                               | GSM886835                            | primary site: central_nervous_system |\n",
       "| GSM886836 | 143B                                 | GSM886836                            | primary site: bone                   |\n",
       "| GSM886837 | 22Rv1                                | GSM886837                            | primary site: prostate               |\n",
       "| GSM886838 | 23132/87                             | GSM886838                            | primary site: stomach                |\n",
       "| GSM886839 | 42-MG-BA                             | GSM886839                            | primary site: central_nervous_system |\n",
       "| GSM886840 | 5637                                 | GSM886840                            | primary site: urinary_tract          |\n",
       "\n"
      ],
      "text/plain": [
       "          title    geo_accession characteristics_ch1                 \n",
       "GSM886835 1321N1   GSM886835     primary site: central_nervous_system\n",
       "GSM886836 143B     GSM886836     primary site: bone                  \n",
       "GSM886837 22Rv1    GSM886837     primary site: prostate              \n",
       "GSM886838 23132/87 GSM886838     primary site: stomach               \n",
       "GSM886839 42-MG-BA GSM886839     primary site: central_nervous_system\n",
       "GSM886840 5637     GSM886840     primary site: urinary_tract         "
      ]
     },
     "metadata": {},
     "output_type": "display_data"
    }
   ],
   "source": [
    "p.mat[1:6, c(1:2, 10)]"
   ]
  },
  {
   "cell_type": "code",
   "execution_count": 8,
   "metadata": {},
   "outputs": [
    {
     "data": {
      "text/html": [
       "'central_nervous_system'"
      ],
      "text/latex": [
       "'central\\_nervous\\_system'"
      ],
      "text/markdown": [
       "'central_nervous_system'"
      ],
      "text/plain": [
       "[1] \"central_nervous_system\""
      ]
     },
     "metadata": {},
     "output_type": "display_data"
    }
   ],
   "source": [
    "unlist(strsplit (as.character (p.mat[1,10]), \": \"))[2]"
   ]
  },
  {
   "cell_type": "code",
   "execution_count": 9,
   "metadata": {
    "collapsed": true
   },
   "outputs": [],
   "source": [
    "source.vec <- sapply (as.character(p.mat[, 10]), function(x) {unlist(strsplit(x, \": \"))[2]})"
   ]
  },
  {
   "cell_type": "code",
   "execution_count": 10,
   "metadata": {},
   "outputs": [
    {
     "data": {
      "text/html": [
       "<dl class=dl-horizontal>\n",
       "\t<dt>primary site: central_nervous_system</dt>\n",
       "\t\t<dd>'central_nervous_system'</dd>\n",
       "\t<dt>primary site: bone</dt>\n",
       "\t\t<dd>'bone'</dd>\n",
       "\t<dt>primary site: prostate</dt>\n",
       "\t\t<dd>'prostate'</dd>\n",
       "\t<dt>primary site: stomach</dt>\n",
       "\t\t<dd>'stomach'</dd>\n",
       "\t<dt>primary site: central_nervous_system</dt>\n",
       "\t\t<dd>'central_nervous_system'</dd>\n",
       "\t<dt>primary site: urinary_tract</dt>\n",
       "\t\t<dd>'urinary_tract'</dd>\n",
       "\t<dt>primary site: urinary_tract</dt>\n",
       "\t\t<dd>'urinary_tract'</dd>\n",
       "\t<dt>primary site: urinary_tract</dt>\n",
       "\t\t<dd>'urinary_tract'</dd>\n",
       "\t<dt>primary site: haematopoietic_and_lymphoid_tissue</dt>\n",
       "\t\t<dd>'haematopoietic_and_lymphoid_tissue'</dd>\n",
       "\t<dt>primary site: kidney</dt>\n",
       "\t\t<dd>'kidney'</dd>\n",
       "</dl>\n"
      ],
      "text/latex": [
       "\\begin{description*}\n",
       "\\item[primary site: central\\textbackslash{}\\_nervous\\textbackslash{}\\_system] 'central\\_nervous\\_system'\n",
       "\\item[primary site: bone] 'bone'\n",
       "\\item[primary site: prostate] 'prostate'\n",
       "\\item[primary site: stomach] 'stomach'\n",
       "\\item[primary site: central\\textbackslash{}\\_nervous\\textbackslash{}\\_system] 'central\\_nervous\\_system'\n",
       "\\item[primary site: urinary\\textbackslash{}\\_tract] 'urinary\\_tract'\n",
       "\\item[primary site: urinary\\textbackslash{}\\_tract] 'urinary\\_tract'\n",
       "\\item[primary site: urinary\\textbackslash{}\\_tract] 'urinary\\_tract'\n",
       "\\item[primary site: haematopoietic\\textbackslash{}\\_and\\textbackslash{}\\_lymphoid\\textbackslash{}\\_tissue] 'haematopoietic\\_and\\_lymphoid\\_tissue'\n",
       "\\item[primary site: kidney] 'kidney'\n",
       "\\end{description*}\n"
      ],
      "text/markdown": [
       "primary site: central_nervous_system\n",
       ":   'central_nervous_system'primary site: bone\n",
       ":   'bone'primary site: prostate\n",
       ":   'prostate'primary site: stomach\n",
       ":   'stomach'primary site: central_nervous_system\n",
       ":   'central_nervous_system'primary site: urinary_tract\n",
       ":   'urinary_tract'primary site: urinary_tract\n",
       ":   'urinary_tract'primary site: urinary_tract\n",
       ":   'urinary_tract'primary site: haematopoietic_and_lymphoid_tissue\n",
       ":   'haematopoietic_and_lymphoid_tissue'primary site: kidney\n",
       ":   'kidney'\n",
       "\n"
      ],
      "text/plain": [
       "            primary site: central_nervous_system \n",
       "                        \"central_nervous_system\" \n",
       "                              primary site: bone \n",
       "                                          \"bone\" \n",
       "                          primary site: prostate \n",
       "                                      \"prostate\" \n",
       "                           primary site: stomach \n",
       "                                       \"stomach\" \n",
       "            primary site: central_nervous_system \n",
       "                        \"central_nervous_system\" \n",
       "                     primary site: urinary_tract \n",
       "                                 \"urinary_tract\" \n",
       "                     primary site: urinary_tract \n",
       "                                 \"urinary_tract\" \n",
       "                     primary site: urinary_tract \n",
       "                                 \"urinary_tract\" \n",
       "primary site: haematopoietic_and_lymphoid_tissue \n",
       "            \"haematopoietic_and_lymphoid_tissue\" \n",
       "                            primary site: kidney \n",
       "                                        \"kidney\" "
      ]
     },
     "metadata": {},
     "output_type": "display_data"
    }
   ],
   "source": [
    "source.vec[1:10]"
   ]
  },
  {
   "cell_type": "code",
   "execution_count": 11,
   "metadata": {},
   "outputs": [
    {
     "data": {
      "text/html": [
       "917"
      ],
      "text/latex": [
       "917"
      ],
      "text/markdown": [
       "917"
      ],
      "text/plain": [
       "[1] 917"
      ]
     },
     "metadata": {},
     "output_type": "display_data"
    }
   ],
   "source": [
    "length (source.vec)"
   ]
  },
  {
   "cell_type": "code",
   "execution_count": 12,
   "metadata": {},
   "outputs": [
    {
     "data": {
      "text/html": [
       "<ol class=list-inline>\n",
       "\t<li>'central_nervous_system'</li>\n",
       "\t<li>'bone'</li>\n",
       "\t<li>'prostate'</li>\n",
       "\t<li>'stomach'</li>\n",
       "\t<li>'urinary_tract'</li>\n",
       "\t<li>'haematopoietic_and_lymphoid_tissue'</li>\n",
       "\t<li>'kidney'</li>\n",
       "\t<li>'thyroid'</li>\n",
       "\t<li>'skin'</li>\n",
       "\t<li>'soft_tissue'</li>\n",
       "\t<li>'salivary_gland'</li>\n",
       "\t<li>'ovary'</li>\n",
       "\t<li>'lung'</li>\n",
       "\t<li>'pleura'</li>\n",
       "\t<li>'liver'</li>\n",
       "\t<li>'endometrium'</li>\n",
       "\t<li>'pancreas'</li>\n",
       "\t<li>'breast'</li>\n",
       "\t<li>'upper_aerodigestive_tract'</li>\n",
       "\t<li>'large_intestine'</li>\n",
       "\t<li>'autonomic_ganglia'</li>\n",
       "\t<li>'oesophagus'</li>\n",
       "\t<li>'biliary_tract'</li>\n",
       "\t<li>'small_intestine'</li>\n",
       "</ol>\n"
      ],
      "text/latex": [
       "\\begin{enumerate*}\n",
       "\\item 'central\\_nervous\\_system'\n",
       "\\item 'bone'\n",
       "\\item 'prostate'\n",
       "\\item 'stomach'\n",
       "\\item 'urinary\\_tract'\n",
       "\\item 'haematopoietic\\_and\\_lymphoid\\_tissue'\n",
       "\\item 'kidney'\n",
       "\\item 'thyroid'\n",
       "\\item 'skin'\n",
       "\\item 'soft\\_tissue'\n",
       "\\item 'salivary\\_gland'\n",
       "\\item 'ovary'\n",
       "\\item 'lung'\n",
       "\\item 'pleura'\n",
       "\\item 'liver'\n",
       "\\item 'endometrium'\n",
       "\\item 'pancreas'\n",
       "\\item 'breast'\n",
       "\\item 'upper\\_aerodigestive\\_tract'\n",
       "\\item 'large\\_intestine'\n",
       "\\item 'autonomic\\_ganglia'\n",
       "\\item 'oesophagus'\n",
       "\\item 'biliary\\_tract'\n",
       "\\item 'small\\_intestine'\n",
       "\\end{enumerate*}\n"
      ],
      "text/markdown": [
       "1. 'central_nervous_system'\n",
       "2. 'bone'\n",
       "3. 'prostate'\n",
       "4. 'stomach'\n",
       "5. 'urinary_tract'\n",
       "6. 'haematopoietic_and_lymphoid_tissue'\n",
       "7. 'kidney'\n",
       "8. 'thyroid'\n",
       "9. 'skin'\n",
       "10. 'soft_tissue'\n",
       "11. 'salivary_gland'\n",
       "12. 'ovary'\n",
       "13. 'lung'\n",
       "14. 'pleura'\n",
       "15. 'liver'\n",
       "16. 'endometrium'\n",
       "17. 'pancreas'\n",
       "18. 'breast'\n",
       "19. 'upper_aerodigestive_tract'\n",
       "20. 'large_intestine'\n",
       "21. 'autonomic_ganglia'\n",
       "22. 'oesophagus'\n",
       "23. 'biliary_tract'\n",
       "24. 'small_intestine'\n",
       "\n",
       "\n"
      ],
      "text/plain": [
       " [1] \"central_nervous_system\"             \"bone\"                              \n",
       " [3] \"prostate\"                           \"stomach\"                           \n",
       " [5] \"urinary_tract\"                      \"haematopoietic_and_lymphoid_tissue\"\n",
       " [7] \"kidney\"                             \"thyroid\"                           \n",
       " [9] \"skin\"                               \"soft_tissue\"                       \n",
       "[11] \"salivary_gland\"                     \"ovary\"                             \n",
       "[13] \"lung\"                               \"pleura\"                            \n",
       "[15] \"liver\"                              \"endometrium\"                       \n",
       "[17] \"pancreas\"                           \"breast\"                            \n",
       "[19] \"upper_aerodigestive_tract\"          \"large_intestine\"                   \n",
       "[21] \"autonomic_ganglia\"                  \"oesophagus\"                        \n",
       "[23] \"biliary_tract\"                      \"small_intestine\"                   "
      ]
     },
     "metadata": {},
     "output_type": "display_data"
    },
    {
     "data": {
      "text/html": [
       "24"
      ],
      "text/latex": [
       "24"
      ],
      "text/markdown": [
       "24"
      ],
      "text/plain": [
       "[1] 24"
      ]
     },
     "metadata": {},
     "output_type": "display_data"
    }
   ],
   "source": [
    "unique (as.character(source.vec))\n",
    "length(unique (as.character(source.vec)))"
   ]
  },
  {
   "cell_type": "code",
   "execution_count": 13,
   "metadata": {},
   "outputs": [
    {
     "data": {
      "text/html": [
       "166"
      ],
      "text/latex": [
       "166"
      ],
      "text/markdown": [
       "166"
      ],
      "text/plain": [
       "[1] 166"
      ]
     },
     "metadata": {},
     "output_type": "display_data"
    }
   ],
   "source": [
    "# If your laptop uses non-English encoding, the quotes will not work for you.\n",
    "sum (as.character(source.vec)==\"lung\")"
   ]
  },
  {
   "cell_type": "markdown",
   "metadata": {},
   "source": [
    "## compute the count for each unique cell line"
   ]
  },
  {
   "cell_type": "code",
   "execution_count": 14,
   "metadata": {},
   "outputs": [
    {
     "data": {
      "text/html": [
       "<dl class=dl-horizontal>\n",
       "\t<dt>central_nervous_system</dt>\n",
       "\t\t<dd>47</dd>\n",
       "\t<dt>bone</dt>\n",
       "\t\t<dd>25</dd>\n",
       "\t<dt>prostate</dt>\n",
       "\t\t<dd>7</dd>\n",
       "\t<dt>stomach</dt>\n",
       "\t\t<dd>34</dd>\n",
       "\t<dt>urinary_tract</dt>\n",
       "\t\t<dd>22</dd>\n",
       "\t<dt>haematopoietic_and_lymphoid_tissue</dt>\n",
       "\t\t<dd>172</dd>\n",
       "\t<dt>kidney</dt>\n",
       "\t\t<dd>20</dd>\n",
       "\t<dt>thyroid</dt>\n",
       "\t\t<dd>11</dd>\n",
       "\t<dt>skin</dt>\n",
       "\t\t<dd>58</dd>\n",
       "\t<dt>soft_tissue</dt>\n",
       "\t\t<dd>16</dd>\n",
       "\t<dt>salivary_gland</dt>\n",
       "\t\t<dd>2</dd>\n",
       "\t<dt>ovary</dt>\n",
       "\t\t<dd>44</dd>\n",
       "\t<dt>lung</dt>\n",
       "\t\t<dd>166</dd>\n",
       "\t<dt>pleura</dt>\n",
       "\t\t<dd>9</dd>\n",
       "\t<dt>liver</dt>\n",
       "\t\t<dd>26</dd>\n",
       "\t<dt>endometrium</dt>\n",
       "\t\t<dd>25</dd>\n",
       "\t<dt>pancreas</dt>\n",
       "\t\t<dd>43</dd>\n",
       "\t<dt>breast</dt>\n",
       "\t\t<dd>56</dd>\n",
       "\t<dt>upper_aerodigestive_tract</dt>\n",
       "\t\t<dd>29</dd>\n",
       "\t<dt>large_intestine</dt>\n",
       "\t\t<dd>55</dd>\n",
       "\t<dt>autonomic_ganglia</dt>\n",
       "\t\t<dd>17</dd>\n",
       "\t<dt>oesophagus</dt>\n",
       "\t\t<dd>25</dd>\n",
       "\t<dt>biliary_tract</dt>\n",
       "\t\t<dd>7</dd>\n",
       "\t<dt>small_intestine</dt>\n",
       "\t\t<dd>1</dd>\n",
       "</dl>\n"
      ],
      "text/latex": [
       "\\begin{description*}\n",
       "\\item[central\\textbackslash{}\\_nervous\\textbackslash{}\\_system] 47\n",
       "\\item[bone] 25\n",
       "\\item[prostate] 7\n",
       "\\item[stomach] 34\n",
       "\\item[urinary\\textbackslash{}\\_tract] 22\n",
       "\\item[haematopoietic\\textbackslash{}\\_and\\textbackslash{}\\_lymphoid\\textbackslash{}\\_tissue] 172\n",
       "\\item[kidney] 20\n",
       "\\item[thyroid] 11\n",
       "\\item[skin] 58\n",
       "\\item[soft\\textbackslash{}\\_tissue] 16\n",
       "\\item[salivary\\textbackslash{}\\_gland] 2\n",
       "\\item[ovary] 44\n",
       "\\item[lung] 166\n",
       "\\item[pleura] 9\n",
       "\\item[liver] 26\n",
       "\\item[endometrium] 25\n",
       "\\item[pancreas] 43\n",
       "\\item[breast] 56\n",
       "\\item[upper\\textbackslash{}\\_aerodigestive\\textbackslash{}\\_tract] 29\n",
       "\\item[large\\textbackslash{}\\_intestine] 55\n",
       "\\item[autonomic\\textbackslash{}\\_ganglia] 17\n",
       "\\item[oesophagus] 25\n",
       "\\item[biliary\\textbackslash{}\\_tract] 7\n",
       "\\item[small\\textbackslash{}\\_intestine] 1\n",
       "\\end{description*}\n"
      ],
      "text/markdown": [
       "central_nervous_system\n",
       ":   47bone\n",
       ":   25prostate\n",
       ":   7stomach\n",
       ":   34urinary_tract\n",
       ":   22haematopoietic_and_lymphoid_tissue\n",
       ":   172kidney\n",
       ":   20thyroid\n",
       ":   11skin\n",
       ":   58soft_tissue\n",
       ":   16salivary_gland\n",
       ":   2ovary\n",
       ":   44lung\n",
       ":   166pleura\n",
       ":   9liver\n",
       ":   26endometrium\n",
       ":   25pancreas\n",
       ":   43breast\n",
       ":   56upper_aerodigestive_tract\n",
       ":   29large_intestine\n",
       ":   55autonomic_ganglia\n",
       ":   17oesophagus\n",
       ":   25biliary_tract\n",
       ":   7small_intestine\n",
       ":   1\n",
       "\n"
      ],
      "text/plain": [
       "            central_nervous_system                               bone \n",
       "                                47                                 25 \n",
       "                          prostate                            stomach \n",
       "                                 7                                 34 \n",
       "                     urinary_tract haematopoietic_and_lymphoid_tissue \n",
       "                                22                                172 \n",
       "                            kidney                            thyroid \n",
       "                                20                                 11 \n",
       "                              skin                        soft_tissue \n",
       "                                58                                 16 \n",
       "                    salivary_gland                              ovary \n",
       "                                 2                                 44 \n",
       "                              lung                             pleura \n",
       "                               166                                  9 \n",
       "                             liver                        endometrium \n",
       "                                26                                 25 \n",
       "                          pancreas                             breast \n",
       "                                43                                 56 \n",
       "         upper_aerodigestive_tract                    large_intestine \n",
       "                                29                                 55 \n",
       "                 autonomic_ganglia                         oesophagus \n",
       "                                17                                 25 \n",
       "                     biliary_tract                    small_intestine \n",
       "                                 7                                  1 "
      ]
     },
     "metadata": {},
     "output_type": "display_data"
    }
   ],
   "source": [
    "unique.source.vec <- unique (as.character(source.vec))\n",
    "count.per.source <- sapply (unique.source.vec, function (x){sum(as.character(source.vec)==x)})\n",
    "count.per.source"
   ]
  },
  {
   "cell_type": "code",
   "execution_count": 15,
   "metadata": {},
   "outputs": [
    {
     "data": {
      "text/html": [
       "25"
      ],
      "text/latex": [
       "25"
      ],
      "text/markdown": [
       "25"
      ],
      "text/plain": [
       "[1] 25"
      ]
     },
     "metadata": {},
     "output_type": "display_data"
    },
    {
     "data": {
      "text/html": [
       "25"
      ],
      "text/latex": [
       "25"
      ],
      "text/markdown": [
       "25"
      ],
      "text/plain": [
       "[1] 25"
      ]
     },
     "metadata": {},
     "output_type": "display_data"
    }
   ],
   "source": [
    "bone.ind <- which (as.character(source.vec) == \"bone\")\n",
    "oesophagus.ind <- which (as.character(source.vec) == \"oesophagus\")\n",
    "length (bone.ind)\n",
    "length (oesophagus.ind)"
   ]
  },
  {
   "cell_type": "code",
   "execution_count": 16,
   "metadata": {},
   "outputs": [
    {
     "data": {
      "text/html": [
       "<ol class=list-inline>\n",
       "\t<li>18926</li>\n",
       "\t<li>50</li>\n",
       "</ol>\n"
      ],
      "text/latex": [
       "\\begin{enumerate*}\n",
       "\\item 18926\n",
       "\\item 50\n",
       "\\end{enumerate*}\n"
      ],
      "text/markdown": [
       "1. 18926\n",
       "2. 50\n",
       "\n",
       "\n"
      ],
      "text/plain": [
       "[1] 18926    50"
      ]
     },
     "metadata": {},
     "output_type": "display_data"
    }
   ],
   "source": [
    "mat.sub <- mat[, c(bone.ind, oesophagus.ind)]\n",
    "dim (mat.sub)"
   ]
  },
  {
   "cell_type": "code",
   "execution_count": 17,
   "metadata": {
    "collapsed": true
   },
   "outputs": [],
   "source": [
    "write.table (mat.sub, file=\"sub_mat.txt\", sep=\"\\t\", row.names=T, col.names=T)"
   ]
  },
  {
   "cell_type": "markdown",
   "metadata": {},
   "source": [
    "## Differential expression using the t-test\n",
    "\n",
    "For each gene A, is the mean of this gene under the bone samples different from the mean of this gene under the oesophagus samples?"
   ]
  },
  {
   "cell_type": "markdown",
   "metadata": {},
   "source": [
    "# mat.sub[1:5, 1:6]"
   ]
  },
  {
   "cell_type": "markdown",
   "metadata": {},
   "source": [
    "### for the first gene, we want to ask of the mean of the first gene is different under bones (first 25 samples 1:25) than under oesophagus (the second 25 samples 26:50)"
   ]
  },
  {
   "cell_type": "code",
   "execution_count": 19,
   "metadata": {},
   "outputs": [
    {
     "data": {
      "text/plain": [
       "\n",
       "\tWelch Two Sample t-test\n",
       "\n",
       "data:  mat.sub[1, 1:25] and mat.sub[1, 26:50]\n",
       "t = -0.67926, df = 39.2, p-value = 0.501\n",
       "alternative hypothesis: true difference in means is not equal to 0\n",
       "95 percent confidence interval:\n",
       " -0.2862871  0.1423271\n",
       "sample estimates:\n",
       "mean of x mean of y \n",
       " 5.672396  5.744376 \n"
      ]
     },
     "metadata": {},
     "output_type": "display_data"
    }
   ],
   "source": [
    "t.test (mat.sub[1, 1:25], mat.sub[1, 26:50])"
   ]
  },
  {
   "cell_type": "code",
   "execution_count": 20,
   "metadata": {},
   "outputs": [
    {
     "data": {
      "text/html": [
       "<strong>t:</strong> -0.679256762159282"
      ],
      "text/latex": [
       "\\textbf{t:} -0.679256762159282"
      ],
      "text/markdown": [
       "**t:** -0.679256762159282"
      ],
      "text/plain": [
       "         t \n",
       "-0.6792568 "
      ]
     },
     "metadata": {},
     "output_type": "display_data"
    }
   ],
   "source": [
    "t.test (mat.sub[1, 1:25], mat.sub[1, 26:50])$statistic"
   ]
  },
  {
   "cell_type": "code",
   "execution_count": 21,
   "metadata": {},
   "outputs": [
    {
     "data": {
      "text/html": [
       "0.500966523469583"
      ],
      "text/latex": [
       "0.500966523469583"
      ],
      "text/markdown": [
       "0.500966523469583"
      ],
      "text/plain": [
       "[1] 0.5009665"
      ]
     },
     "metadata": {},
     "output_type": "display_data"
    }
   ],
   "source": [
    "t.test (mat.sub[1, 1:25], mat.sub[1, 26:50])$p.value"
   ]
  },
  {
   "cell_type": "markdown",
   "metadata": {},
   "source": [
    "## Your task: compute the t-statistic and corresponding p-values for each gene."
   ]
  },
  {
   "cell_type": "code",
   "execution_count": 22,
   "metadata": {
    "collapsed": true
   },
   "outputs": [],
   "source": [
    "p.vec <- apply (mat.sub, 1, function(x) {t.test (x[1:25], x[26:50])$p.value})"
   ]
  },
  {
   "cell_type": "code",
   "execution_count": 23,
   "metadata": {},
   "outputs": [
    {
     "data": {
      "text/html": [
       "18926"
      ],
      "text/latex": [
       "18926"
      ],
      "text/markdown": [
       "18926"
      ],
      "text/plain": [
       "[1] 18926"
      ]
     },
     "metadata": {},
     "output_type": "display_data"
    },
    {
     "data": {
      "text/html": [
       "<dl class=dl-horizontal>\n",
       "\t<dt>100009676_at</dt>\n",
       "\t\t<dd>0.500966523469583</dd>\n",
       "\t<dt>10000_at</dt>\n",
       "\t\t<dd>0.0536207595222768</dd>\n",
       "\t<dt>10001_at</dt>\n",
       "\t\t<dd>8.65572940663866e-05</dd>\n",
       "\t<dt>10002_at</dt>\n",
       "\t\t<dd>0.359261743707278</dd>\n",
       "\t<dt>10003_at</dt>\n",
       "\t\t<dd>0.00690070071040102</dd>\n",
       "\t<dt>100048912_at</dt>\n",
       "\t\t<dd>0.413115590895722</dd>\n",
       "\t<dt>100049716_at</dt>\n",
       "\t\t<dd>0.368749723785164</dd>\n",
       "\t<dt>10004_at</dt>\n",
       "\t\t<dd>0.0288837895376465</dd>\n",
       "\t<dt>10005_at</dt>\n",
       "\t\t<dd>0.153216633818485</dd>\n",
       "\t<dt>10006_at</dt>\n",
       "\t\t<dd>0.188465154780594</dd>\n",
       "</dl>\n"
      ],
      "text/latex": [
       "\\begin{description*}\n",
       "\\item[100009676\\textbackslash{}\\_at] 0.500966523469583\n",
       "\\item[10000\\textbackslash{}\\_at] 0.0536207595222768\n",
       "\\item[10001\\textbackslash{}\\_at] 8.65572940663866e-05\n",
       "\\item[10002\\textbackslash{}\\_at] 0.359261743707278\n",
       "\\item[10003\\textbackslash{}\\_at] 0.00690070071040102\n",
       "\\item[100048912\\textbackslash{}\\_at] 0.413115590895722\n",
       "\\item[100049716\\textbackslash{}\\_at] 0.368749723785164\n",
       "\\item[10004\\textbackslash{}\\_at] 0.0288837895376465\n",
       "\\item[10005\\textbackslash{}\\_at] 0.153216633818485\n",
       "\\item[10006\\textbackslash{}\\_at] 0.188465154780594\n",
       "\\end{description*}\n"
      ],
      "text/markdown": [
       "100009676_at\n",
       ":   0.50096652346958310000_at\n",
       ":   0.053620759522276810001_at\n",
       ":   8.65572940663866e-0510002_at\n",
       ":   0.35926174370727810003_at\n",
       ":   0.00690070071040102100048912_at\n",
       ":   0.413115590895722100049716_at\n",
       ":   0.36874972378516410004_at\n",
       ":   0.028883789537646510005_at\n",
       ":   0.15321663381848510006_at\n",
       ":   0.188465154780594\n",
       "\n"
      ],
      "text/plain": [
       "100009676_at     10000_at     10001_at     10002_at     10003_at 100048912_at \n",
       "5.009665e-01 5.362076e-02 8.655729e-05 3.592617e-01 6.900701e-03 4.131156e-01 \n",
       "100049716_at     10004_at     10005_at     10006_at \n",
       "3.687497e-01 2.888379e-02 1.532166e-01 1.884652e-01 "
      ]
     },
     "metadata": {},
     "output_type": "display_data"
    }
   ],
   "source": [
    "length (p.vec)\n",
    "p.vec[1:10]"
   ]
  },
  {
   "cell_type": "code",
   "execution_count": 24,
   "metadata": {},
   "outputs": [
    {
     "data": {
      "text/html": [
       "<dl class=dl-horizontal>\n",
       "\t<dt>100009676_at</dt>\n",
       "\t\t<dd>0.5</dd>\n",
       "\t<dt>10000_at</dt>\n",
       "\t\t<dd>0.05</dd>\n",
       "\t<dt>10001_at</dt>\n",
       "\t\t<dd>0</dd>\n",
       "\t<dt>10002_at</dt>\n",
       "\t\t<dd>0.36</dd>\n",
       "\t<dt>10003_at</dt>\n",
       "\t\t<dd>0.01</dd>\n",
       "\t<dt>100048912_at</dt>\n",
       "\t\t<dd>0.41</dd>\n",
       "\t<dt>100049716_at</dt>\n",
       "\t\t<dd>0.37</dd>\n",
       "\t<dt>10004_at</dt>\n",
       "\t\t<dd>0.03</dd>\n",
       "\t<dt>10005_at</dt>\n",
       "\t\t<dd>0.15</dd>\n",
       "\t<dt>10006_at</dt>\n",
       "\t\t<dd>0.19</dd>\n",
       "</dl>\n"
      ],
      "text/latex": [
       "\\begin{description*}\n",
       "\\item[100009676\\textbackslash{}\\_at] 0.5\n",
       "\\item[10000\\textbackslash{}\\_at] 0.05\n",
       "\\item[10001\\textbackslash{}\\_at] 0\n",
       "\\item[10002\\textbackslash{}\\_at] 0.36\n",
       "\\item[10003\\textbackslash{}\\_at] 0.01\n",
       "\\item[100048912\\textbackslash{}\\_at] 0.41\n",
       "\\item[100049716\\textbackslash{}\\_at] 0.37\n",
       "\\item[10004\\textbackslash{}\\_at] 0.03\n",
       "\\item[10005\\textbackslash{}\\_at] 0.15\n",
       "\\item[10006\\textbackslash{}\\_at] 0.19\n",
       "\\end{description*}\n"
      ],
      "text/markdown": [
       "100009676_at\n",
       ":   0.510000_at\n",
       ":   0.0510001_at\n",
       ":   010002_at\n",
       ":   0.3610003_at\n",
       ":   0.01100048912_at\n",
       ":   0.41100049716_at\n",
       ":   0.3710004_at\n",
       ":   0.0310005_at\n",
       ":   0.1510006_at\n",
       ":   0.19\n",
       "\n"
      ],
      "text/plain": [
       "100009676_at     10000_at     10001_at     10002_at     10003_at 100048912_at \n",
       "        0.50         0.05         0.00         0.36         0.01         0.41 \n",
       "100049716_at     10004_at     10005_at     10006_at \n",
       "        0.37         0.03         0.15         0.19 "
      ]
     },
     "metadata": {},
     "output_type": "display_data"
    }
   ],
   "source": [
    "round (p.vec[1:10], 2)"
   ]
  },
  {
   "cell_type": "code",
   "execution_count": 25,
   "metadata": {},
   "outputs": [
    {
     "data": {
      "text/html": [
       "7495"
      ],
      "text/latex": [
       "7495"
      ],
      "text/markdown": [
       "7495"
      ],
      "text/plain": [
       "[1] 7495"
      ]
     },
     "metadata": {},
     "output_type": "display_data"
    }
   ],
   "source": [
    "# want to count how many genes have a p-value less than a pre-specified threshold\n",
    "sum (p.vec < 0.05)"
   ]
  },
  {
   "cell_type": "code",
   "execution_count": 26,
   "metadata": {},
   "outputs": [
    {
     "data": {
      "text/html": [
       "5050"
      ],
      "text/latex": [
       "5050"
      ],
      "text/markdown": [
       "5050"
      ],
      "text/plain": [
       "[1] 5050"
      ]
     },
     "metadata": {},
     "output_type": "display_data"
    }
   ],
   "source": [
    "sum (p.vec < 0.01)"
   ]
  },
  {
   "cell_type": "code",
   "execution_count": 27,
   "metadata": {},
   "outputs": [
    {
     "data": {
      "text/html": [
       "2998"
      ],
      "text/latex": [
       "2998"
      ],
      "text/markdown": [
       "2998"
      ],
      "text/plain": [
       "[1] 2998"
      ]
     },
     "metadata": {},
     "output_type": "display_data"
    }
   ],
   "source": [
    "sum (p.vec < 0.001)"
   ]
  },
  {
   "cell_type": "code",
   "execution_count": 28,
   "metadata": {},
   "outputs": [
    {
     "data": {
      "text/html": [
       "758"
      ],
      "text/latex": [
       "758"
      ],
      "text/markdown": [
       "758"
      ],
      "text/plain": [
       "[1] 758"
      ]
     },
     "metadata": {},
     "output_type": "display_data"
    }
   ],
   "source": [
    "sum (p.vec < 0.000001)"
   ]
  },
  {
   "cell_type": "markdown",
   "metadata": {},
   "source": [
    "### Question: should we expect to see so many differentially expressed genes?"
   ]
  },
  {
   "cell_type": "code",
   "execution_count": 29,
   "metadata": {
    "collapsed": true
   },
   "outputs": [],
   "source": [
    "# check out visualization techniques, such as heatmap, heatmap.2"
   ]
  },
  {
   "cell_type": "markdown",
   "metadata": {},
   "source": [
    "## Bonferroni correction\n",
    "###Divide the critical P value (α) by the number of comparisons being made."
   ]
  },
  {
   "cell_type": "code",
   "execution_count": 30,
   "metadata": {},
   "outputs": [
    {
     "data": {
      "text/html": [
       "2.64186832928247e-06"
      ],
      "text/latex": [
       "2.64186832928247e-06"
      ],
      "text/markdown": [
       "2.64186832928247e-06"
      ],
      "text/plain": [
       "[1] 2.641868e-06"
      ]
     },
     "metadata": {},
     "output_type": "display_data"
    }
   ],
   "source": [
    "0.05/18926"
   ]
  },
  {
   "cell_type": "code",
   "execution_count": 31,
   "metadata": {},
   "outputs": [
    {
     "data": {
      "text/html": [
       "904"
      ],
      "text/latex": [
       "904"
      ],
      "text/markdown": [
       "904"
      ],
      "text/plain": [
       "[1] 904"
      ]
     },
     "metadata": {},
     "output_type": "display_data"
    }
   ],
   "source": [
    "sum (p.vec < (0.05/18926))"
   ]
  },
  {
   "cell_type": "markdown",
   "metadata": {},
   "source": [
    "### After the Bonferroni correction, we identified 904 genes as differentially expressed, i.e., we reject the null hypothesis for these 904 genes."
   ]
  },
  {
   "cell_type": "code",
   "execution_count": 32,
   "metadata": {},
   "outputs": [
    {
     "data": {
      "text/html": [
       "904"
      ],
      "text/latex": [
       "904"
      ],
      "text/markdown": [
       "904"
      ],
      "text/plain": [
       "[1] 904"
      ]
     },
     "metadata": {},
     "output_type": "display_data"
    }
   ],
   "source": [
    "DE.ind <- which (p.vec < (0.05/18926))\n",
    "length (DE.ind)"
   ]
  },
  {
   "cell_type": "code",
   "execution_count": 33,
   "metadata": {},
   "outputs": [
    {
     "data": {
      "text/html": [
       "<dl class=dl-horizontal>\n",
       "\t<dt>100127983_at</dt>\n",
       "\t\t<dd>30</dd>\n",
       "\t<dt>100128252_at</dt>\n",
       "\t\t<dd>41</dd>\n",
       "\t<dt>100131187_at</dt>\n",
       "\t\t<dd>149</dd>\n",
       "\t<dt>100132341_at</dt>\n",
       "\t\t<dd>175</dd>\n",
       "\t<dt>10019_at</dt>\n",
       "\t\t<dd>232</dd>\n",
       "\t<dt>1001_at</dt>\n",
       "\t\t<dd>233</dd>\n",
       "\t<dt>100289274_at</dt>\n",
       "\t\t<dd>296</dd>\n",
       "\t<dt>10045_at</dt>\n",
       "\t\t<dd>333</dd>\n",
       "\t<dt>100499467_at</dt>\n",
       "\t\t<dd>341</dd>\n",
       "\t<dt>100505549_at</dt>\n",
       "\t\t<dd>368</dd>\n",
       "</dl>\n"
      ],
      "text/latex": [
       "\\begin{description*}\n",
       "\\item[100127983\\textbackslash{}\\_at] 30\n",
       "\\item[100128252\\textbackslash{}\\_at] 41\n",
       "\\item[100131187\\textbackslash{}\\_at] 149\n",
       "\\item[100132341\\textbackslash{}\\_at] 175\n",
       "\\item[10019\\textbackslash{}\\_at] 232\n",
       "\\item[1001\\textbackslash{}\\_at] 233\n",
       "\\item[100289274\\textbackslash{}\\_at] 296\n",
       "\\item[10045\\textbackslash{}\\_at] 333\n",
       "\\item[100499467\\textbackslash{}\\_at] 341\n",
       "\\item[100505549\\textbackslash{}\\_at] 368\n",
       "\\end{description*}\n"
      ],
      "text/markdown": [
       "100127983_at\n",
       ":   30100128252_at\n",
       ":   41100131187_at\n",
       ":   149100132341_at\n",
       ":   17510019_at\n",
       ":   2321001_at\n",
       ":   233100289274_at\n",
       ":   29610045_at\n",
       ":   333100499467_at\n",
       ":   341100505549_at\n",
       ":   368\n",
       "\n"
      ],
      "text/plain": [
       "100127983_at 100128252_at 100131187_at 100132341_at     10019_at      1001_at \n",
       "          30           41          149          175          232          233 \n",
       "100289274_at     10045_at 100499467_at 100505549_at \n",
       "         296          333          341          368 "
      ]
     },
     "metadata": {},
     "output_type": "display_data"
    }
   ],
   "source": [
    "DE.ind[1:10]"
   ]
  },
  {
   "cell_type": "code",
   "execution_count": 34,
   "metadata": {},
   "outputs": [
    {
     "data": {
      "text/html": [
       "<dl class=dl-horizontal>\n",
       "\t<dt>100127983_at</dt>\n",
       "\t\t<dd>1.59044505860094e-11</dd>\n",
       "\t<dt>100128252_at</dt>\n",
       "\t\t<dd>1.28375657017976e-08</dd>\n",
       "\t<dt>100131187_at</dt>\n",
       "\t\t<dd>3.35262412561206e-12</dd>\n",
       "\t<dt>100132341_at</dt>\n",
       "\t\t<dd>1.60675694558976e-08</dd>\n",
       "\t<dt>10019_at</dt>\n",
       "\t\t<dd>3.21691389213512e-12</dd>\n",
       "\t<dt>1001_at</dt>\n",
       "\t\t<dd>3.39352557422291e-12</dd>\n",
       "\t<dt>100289274_at</dt>\n",
       "\t\t<dd>8.62389220774107e-09</dd>\n",
       "\t<dt>10045_at</dt>\n",
       "\t\t<dd>4.48230155810448e-14</dd>\n",
       "\t<dt>100499467_at</dt>\n",
       "\t\t<dd>5.14088068443783e-09</dd>\n",
       "\t<dt>100505549_at</dt>\n",
       "\t\t<dd>1.5981264918586e-06</dd>\n",
       "</dl>\n"
      ],
      "text/latex": [
       "\\begin{description*}\n",
       "\\item[100127983\\textbackslash{}\\_at] 1.59044505860094e-11\n",
       "\\item[100128252\\textbackslash{}\\_at] 1.28375657017976e-08\n",
       "\\item[100131187\\textbackslash{}\\_at] 3.35262412561206e-12\n",
       "\\item[100132341\\textbackslash{}\\_at] 1.60675694558976e-08\n",
       "\\item[10019\\textbackslash{}\\_at] 3.21691389213512e-12\n",
       "\\item[1001\\textbackslash{}\\_at] 3.39352557422291e-12\n",
       "\\item[100289274\\textbackslash{}\\_at] 8.62389220774107e-09\n",
       "\\item[10045\\textbackslash{}\\_at] 4.48230155810448e-14\n",
       "\\item[100499467\\textbackslash{}\\_at] 5.14088068443783e-09\n",
       "\\item[100505549\\textbackslash{}\\_at] 1.5981264918586e-06\n",
       "\\end{description*}\n"
      ],
      "text/markdown": [
       "100127983_at\n",
       ":   1.59044505860094e-11100128252_at\n",
       ":   1.28375657017976e-08100131187_at\n",
       ":   3.35262412561206e-12100132341_at\n",
       ":   1.60675694558976e-0810019_at\n",
       ":   3.21691389213512e-121001_at\n",
       ":   3.39352557422291e-12100289274_at\n",
       ":   8.62389220774107e-0910045_at\n",
       ":   4.48230155810448e-14100499467_at\n",
       ":   5.14088068443783e-09100505549_at\n",
       ":   1.5981264918586e-06\n",
       "\n"
      ],
      "text/plain": [
       "100127983_at 100128252_at 100131187_at 100132341_at     10019_at      1001_at \n",
       "1.590445e-11 1.283757e-08 3.352624e-12 1.606757e-08 3.216914e-12 3.393526e-12 \n",
       "100289274_at     10045_at 100499467_at 100505549_at \n",
       "8.623892e-09 4.482302e-14 5.140881e-09 1.598126e-06 "
      ]
     },
     "metadata": {},
     "output_type": "display_data"
    }
   ],
   "source": [
    "p.vec[DE.ind[1:10]]"
   ]
  },
  {
   "cell_type": "code",
   "execution_count": null,
   "metadata": {
    "collapsed": true
   },
   "outputs": [],
   "source": []
  }
 ],
 "metadata": {
  "kernelspec": {
   "display_name": "R",
   "language": "R",
   "name": "ir"
  },
  "language_info": {
   "codemirror_mode": "r",
   "file_extension": ".r",
   "mimetype": "text/x-r-source",
   "name": "R",
   "pygments_lexer": "r",
   "version": "3.5.0"
  }
 },
 "nbformat": 4,
 "nbformat_minor": 2
}
